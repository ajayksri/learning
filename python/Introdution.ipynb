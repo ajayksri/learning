{
 "cells": [
  {
   "cell_type": "code",
   "execution_count": 8,
   "metadata": {},
   "outputs": [],
   "source": [
    "# Size of int - claim that size is limited by machine's memory ===> Sounds true\n",
    "#anInt = 10000000000000000000000000000000000000000000000000000000000000000000000000000000000000000000000000000000000000000000000000000000000000000000000000000000000000000000000000000000000000000000000000000000000000000000000000000000000000000000000000000000000000000000000000000000000000000000000000000000000000000000000000000000000000000000000000000000000000000000000000000000000000000000000000000000000000000000000000000000000000000000000000000000000000000000000000000000000000000000000000000000000000000000000000000000000000000000000000000000000000000000000000000000000000000000000000000000000000000000000000000000000000000000000000000000000000000000000000000000000000000000000000000000000000000000000000000000000000000000000000000000000000000000000000000000000000000000000000000000000000000000000000000000000000000000000000000000000000000000000000\n",
    "#print (anInt*anInt*anInt*anInt*anInt)"
   ]
  },
  {
   "cell_type": "code",
   "execution_count": null,
   "metadata": {},
   "outputs": [],
   "source": [
    "''' All python data items are objects. '''"
   ]
  },
  {
   "cell_type": "code",
   "execution_count": 11,
   "metadata": {},
   "outputs": [
    {
     "name": "stdout",
     "output_type": "stream",
     "text": [
      "<class 'int'>\n",
      "<class 'str'>\n"
     ]
    },
    {
     "data": {
      "text/plain": [
       "'FALSE - as variables store reference to object. It could be assigned but data types are checked before operations so\\nit is strongly typed.'"
      ]
     },
     "execution_count": 11,
     "metadata": {},
     "output_type": "execute_result"
    }
   ],
   "source": [
    "# Python is dynamically typed but not weakly typed so int variable should not get assigned to string\n",
    "anInt = 10\n",
    "print(type(anInt))\n",
    "anInt = \"abc\"\n",
    "print(type(anInt))\n",
    "\"\"\"FALSE - as variables store reference to object. It could be assigned but data types are checked before operations so\n",
    "it is strongly typed.\"\"\""
   ]
  },
  {
   "cell_type": "code",
   "execution_count": null,
   "metadata": {},
   "outputs": [],
   "source": [
    "'''Collection Data Types\n",
    "1. () - tuples are immutable.\n",
    "2. [] - list is mutable.\n",
    "3. Strings are immutable.\n",
    "4. len operator works for tuples, list and strings. What else ?\n",
    "5. Does python have array ? Does not have built-in support, list is used.\n",
    "6. List, tuples and string are also called sequences.\n",
    "7. Generators ?\n",
    "\n",
    "One of the most important interface in Python: iterable - it's basically anything you can use like for elem in iterable.\n",
    "Iterable has three descendants: sequence, generator and mapping.\n",
    "1. A sequence is a iterable with random access. You can ask for any item of the sequence without having to consume the \n",
    "items before it. With this property you can build slices, which give you more than one element at once. A slice can \n",
    "give you a subsequence: seq[from:until] and every nth item: seq[from:until:nth]. list, tuple and str all are sequences.\n",
    "\n",
    "2. If the access is done via keys instead of integer positions, you have a mapping. dict is the basic mapping.\n",
    "\n",
    "3. The most basic iterable is a generator. It supports no random access and therefore no slicing. You have to \n",
    "consume all items in the order they are given. Generator typically only create their items when you iterate over them.\n",
    "The common way to create generators are generator expressions. They look exactly like list comprehension, except with \n",
    "round brackets, for example (f(x) for x in y). Calling a function that uses the yield keyword returns a generator too.\n",
    "\n",
    "The common adapter to all iterables is the iterator. iterators have the same interface as the most basic type they \n",
    "support, a generator. They are created explicitly by calling iter on a iterable and are used implicitly in all kinds \n",
    "of looping constructs.\n",
    "'''\n"
   ]
  },
  {
   "cell_type": "code",
   "execution_count": 18,
   "metadata": {},
   "outputs": [
    {
     "name": "stdout",
     "output_type": "stream",
     "text": [
      "yes\n"
     ]
    }
   ],
   "source": [
    "''' Logical Operators\n",
    "1. Identity operators - \"is\" and \"is not\" are used for checking if the variables are pointing to same reference.\n",
    "2. Comparision operators - <, <=, >, >= , ==, !=. These operators can be changed like 0 <= a <= 5\n",
    "3. Logical operators - and, or, not. Both and, or DOES NOT return boolean but the operand which determines the result.\n",
    "While \"not\" return boolean. Non-zeros are True and zero is False.\n",
    "'''\n",
    "if -1:\n",
    "    print (\"yes\")\n",
    "elif 5:\n",
    "    print (\"no\")"
   ]
  },
  {
   "cell_type": "code",
   "execution_count": 23,
   "metadata": {},
   "outputs": [
    {
     "name": "stdout",
     "output_type": "stream",
     "text": [
      "Denmark\n",
      "Finland\n",
      "Norway\n",
      "Sweden\n",
      "Integer :12\n",
      "13\n",
      "12 13\n"
     ]
    }
   ],
   "source": [
    "# Control Flow Statements\n",
    "# For Syntax -\n",
    "for country in [\"Denmark\", \"Finland\", \"Norway\", \"Sweden\"]: print(country) \n",
    "''' Exception Handling -\n",
    "try :\n",
    "    code\n",
    "except exp1 as var1:\n",
    "    code\n",
    "except exp2 as var2:\n",
    "    code\n",
    "    \n",
    "1. Does it have something like \"Catch all\"\n",
    "2. What about finally ?\n",
    "''' \n",
    "# Arithmatic Operators\n",
    "# Console I/O -\n",
    "in1 = input (\"Integer :\")\n",
    "in2 = input ()\n",
    "print(in1, in2)"
   ]
  },
  {
   "cell_type": "code",
   "execution_count": null,
   "metadata": {},
   "outputs": [],
   "source": [
    "# Function\n",
    "'''\n",
    "1. Every function returns something. Default is None.\n",
    "2. Return  value could be one or tuple\n",
    "3. Function are objects, can be used like other data types.\n",
    "4. There is sys.argv. Is there argc as well ?\n",
    "'''"
   ]
  },
  {
   "cell_type": "code",
   "execution_count": 12,
   "metadata": {},
   "outputs": [
    {
     "name": "stdout",
     "output_type": "stream",
     "text": [
      "rows ( or Enter for None): 3\n",
      "columns ( or Enter for None): 2\n",
      "minimum ( or Enter for 0): 20\n",
      "maximum ( or Enter for 1000): 45\n",
      "20 45\n",
      "45    28    \n",
      "42    28    \n",
      "21    21    \n"
     ]
    }
   ],
   "source": [
    "# Example - generate grid\n",
    "import random\n",
    "\n",
    "def getInput(message, minLimit=None, default=None):\n",
    "    msg = None\n",
    "    if minLimit == 0 and default == None :\n",
    "        msg = message + \": \"\n",
    "    else :\n",
    "        msg = message + \" ( or Enter for \" + str(default) + \"): \"\n",
    "    while True:\n",
    "        num = input(msg)\n",
    "        if not num:\n",
    "            return default\n",
    "        else:\n",
    "            try:\n",
    "                num = int(num)\n",
    "                if num < minLimit:\n",
    "                    print (\"Should be >= \" + str(minLimit))\n",
    "                else:\n",
    "                    return num\n",
    "            except ValueError as erroor:\n",
    "                print(erroor)\n",
    "    \n",
    "def genGrid():\n",
    "    rows = getInput(\"rows\", 1)\n",
    "    columns = getInput(\"columns\", 1)\n",
    "    minimum = getInput(\"minimum\", -100, 0)\n",
    "    default = 1000\n",
    "    if (minimum > default/2):\n",
    "        default = 2*minimum\n",
    "    maximum = getInput(\"maximum\", minimum, default)\n",
    "    print (minimum, maximum)\n",
    "    for i in range(0, rows):\n",
    "        line = \"\"\n",
    "        for _ in range(0, columns): # don't care loop variable\n",
    "            # format line better here\n",
    "            line = line+str(random.randint(minimum, maximum))+ \"    \"\n",
    "        print(line)\n",
    "        \n",
    "genGrid()            "
   ]
  }
 ],
 "metadata": {
  "kernelspec": {
   "display_name": "Python 3",
   "language": "python",
   "name": "python3"
  },
  "language_info": {
   "codemirror_mode": {
    "name": "ipython",
    "version": 3
   },
   "file_extension": ".py",
   "mimetype": "text/x-python",
   "name": "python",
   "nbconvert_exporter": "python",
   "pygments_lexer": "ipython3",
   "version": "3.6.5"
  }
 },
 "nbformat": 4,
 "nbformat_minor": 2
}
