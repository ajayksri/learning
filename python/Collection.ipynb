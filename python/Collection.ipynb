{
 "cells": [
  {
   "cell_type": "code",
   "execution_count": null,
   "metadata": {},
   "outputs": [],
   "source": [
    "# Sequence Types\n",
    "# A sequence is one which supports \"in\" operation, len(), slices and is iterable.\n",
    "# bytearray, bytes, list, str, tuple"
   ]
  },
  {
   "cell_type": "code",
   "execution_count": 10,
   "metadata": {},
   "outputs": [
    {
     "name": "stdout",
     "output_type": "stream",
     "text": [
      "('a',)\n",
      "<class 'str'>\n",
      "('a', 'A', 'B', 'C', 12)\n",
      "B\n"
     ]
    }
   ],
   "source": [
    "# Tuple\n",
    "a = tuple()\n",
    "a = tuple(\"a\")\n",
    "print(a)\n",
    "a += (\"A\", \"B\", \"C\", 12)\n",
    "x, y, z, w, t = a\n",
    "print(type(a[2]))\n",
    "print(a)\n",
    "print(z)"
   ]
  },
  {
   "cell_type": "code",
   "execution_count": 25,
   "metadata": {},
   "outputs": [
    {
     "name": "stdout",
     "output_type": "stream",
     "text": [
      "<class '__main__.Sale'>\n",
      "[Sale(productid=1, customerid=1, date='2008-09-14', quantity=3, price=7.99), Sale(productid=2, customerid=2, date='2008-09-14', quantity=3, price=7.99)]\n",
      "(1, 2, 3)\n"
     ]
    }
   ],
   "source": [
    "hair = \"Black\", \"Brown\", \"White\", \"Gray\"\n",
    "eyes = (\"brown\", \"hazel\", \"amber\", \"green\", \"blue\", \"gray\")\n",
    "color = (hair, eyes)\n",
    "color[:1]\n",
    "color[1][1]\n",
    "\n",
    "# NamedTuple\n",
    "import collections\n",
    "Sale = collections.namedtuple(\"Sale\", \"productid customerid date quantity price\")\n",
    "print(Sale)\n",
    "sales = []\n",
    "sales.append(Sale(1, 1, \"2008-09-14\", 3, 7.99))\n",
    "sales.append(Sale(2, 2, \"2008-09-14\", 3, 7.99))\n",
    "print(sales)\n",
    "\"{0.productid} {0.customerid}\".format(sales[0])\n",
    "t1 = 1, 2, 3\n",
    "\n",
    "print(t1)"
   ]
  },
  {
   "cell_type": "code",
   "execution_count": 35,
   "metadata": {},
   "outputs": [
    {
     "name": "stdout",
     "output_type": "stream",
     "text": [
      "[2, 3, 4, 5, 6]\n",
      "A\n",
      "[' ', 'B', ' ', 'C', ' ', 'D', ' ', 'E', ' ']\n",
      "F\n",
      "24\n",
      "[1904, 1908, 1912, 1916, 1920, 1924, 1928, 1932, 1936]\n"
     ]
    }
   ],
   "source": [
    "# List\n",
    "intList = [2, 3, 4, 5, 6]\n",
    "print(intList)\n",
    "\n",
    "#Unpacking\n",
    "first, *intList, last = [2, 3, 4, 5, 6]\n",
    "first, *intList, last = \"A B C D E F\".split()\n",
    "first, *intList, last = \"A B C D E F\"\n",
    "print(first)\n",
    "print(intList)\n",
    "print(last)\n",
    "\n",
    "# Using unpacking in functions\n",
    "def multiply(a, b,c):\n",
    "    return a*b*c\n",
    "#last = [2, 3, 4, 5, 6] - should have exactly same arguments as the function has.\n",
    "last = [2, 3, 4]\n",
    "print(multiply(*last))\n",
    "\n",
    "# List Comprehensions\n",
    "leaps = [y for y in range(1900, 1940) if (y % 4 == 0 and y % 100 != 0) or (y % 400 == 0)]\n",
    "print(leaps)"
   ]
  },
  {
   "cell_type": "code",
   "execution_count": 41,
   "metadata": {},
   "outputs": [
    {
     "name": "stdout",
     "output_type": "stream",
     "text": [
      "{'ABC', 1}\n"
     ]
    }
   ],
   "source": [
    "# Set - mutable \n",
    "# FrozenSet - immutable\n",
    "# Sets are unordered collections so can not be indexed or sliced.\n",
    "\n",
    "S = {7, \"veil\", 0, -29, (\"x\", 11), \"sun\", frozenset({8, 4, 7}), 913}\n",
    "# print(S[0]) - does not support indexing\n",
    "a = set()\n",
    "a.add(\"ABC\")\n",
    "a.add(1)\n",
    "a.add(1)\n",
    "print(a)\n",
    "\n",
    "fs = frozenset()\n",
    "#fs.add(1) -- immutable, so doesn't have this method"
   ]
  },
  {
   "cell_type": "code",
   "execution_count": 58,
   "metadata": {},
   "outputs": [
    {
     "name": "stdout",
     "output_type": "stream",
     "text": [
      "id : 1\n",
      "name : Rajan\n",
      "size : 3\n",
      "id\n",
      "name\n",
      "size\n",
      "1\n",
      "Rajan\n",
      "3\n",
      "3\n",
      "None\n"
     ]
    }
   ],
   "source": [
    "# Mapping Types\n",
    "# Dictionary, collections.defaultdict, collections.OrderedDict\n",
    "# Dictionary does not have notion of index, so no slicing and striding\n",
    "\n",
    "dct1 = dict({\"id\": 1, \"name\": \"Rajan\", \"size\": 3}) \n",
    "dct2 = dict(id=1, name=\"Rajan\", size=3) \n",
    "dct3 = dict([(\"id\", 1), (\"name\", \"Rajan\"), (\"size\", 3)]) \n",
    "dct4 = dict(zip((\"id\", \"name\", \"size\"), (1, \"Rajan\", 3))) \n",
    "dct5 = {\"id\": 1, \"name\": \"Rajan\", \"size\": 3}\n",
    "#print(dct5['id'], dct5['name'], dct5['size'])\n",
    "for k,v in dct5.items():\n",
    "    print (k, \":\", v)\n",
    "for k in dct5.keys():\n",
    "    print (k)\n",
    "for v in dct5.values():\n",
    "    print (v)\n",
    "print(len(dct5))\n",
    "print(dct5[\"Ajay\"])"
   ]
  },
  {
   "cell_type": "code",
   "execution_count": 64,
   "metadata": {},
   "outputs": [
    {
     "name": "stdout",
     "output_type": "stream",
     "text": [
      "0 : -2\n",
      "1 : 9\n",
      "2 : 7\n",
      "3 : -4\n",
      "4 : 3\n",
      "(0, -2) (1, 9) (2, 7) (3, -4) (4, 3)\n"
     ]
    }
   ],
   "source": [
    "# Enumerator function\n",
    "x = [-2, 9, 7, -4, 3] \n",
    "for k,v in enumerate(x) :\n",
    "    print(k, \":\", v)\n",
    "e = enumerate(x)\n",
    "print(*e)"
   ]
  }
 ],
 "metadata": {
  "kernelspec": {
   "display_name": "Python 3",
   "language": "python",
   "name": "python3"
  },
  "language_info": {
   "codemirror_mode": {
    "name": "ipython",
    "version": 3
   },
   "file_extension": ".py",
   "mimetype": "text/x-python",
   "name": "python",
   "nbconvert_exporter": "python",
   "pygments_lexer": "ipython3",
   "version": "3.6.5"
  }
 },
 "nbformat": 4,
 "nbformat_minor": 2
}
