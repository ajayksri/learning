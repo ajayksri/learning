{
 "cells": [
  {
   "cell_type": "code",
   "execution_count": 2,
   "metadata": {},
   "outputs": [
    {
     "data": {
      "text/plain": [
       "0"
      ]
     },
     "execution_count": 2,
     "metadata": {},
     "output_type": "execute_result"
    }
   ],
   "source": [
    "# Naming of variables\n",
    "\"\"\"\n",
    "1. Name of variable starts with [a-z][A-Z] and _ . After that, it could be any character.\n",
    "2. Variables are case sensitive.\n",
    "3. Can not be a keyword -\n",
    "and continue except global lambda pass while as def False if None raise \n",
    "with assert del finally import nonlocal return yield break elif for in \n",
    "not True class else from is or try\n",
    "4. There are other keywords like built-in datatypes - int, str etc., built-in functions, exceptions etc.\n",
    "\"\"\""
   ]
  },
  {
   "cell_type": "code",
   "execution_count": 13,
   "metadata": {},
   "outputs": [
    {
     "name": "stdout",
     "output_type": "stream",
     "text": [
      "4\n",
      "0.6666666666666666\n",
      "0\n",
      "301.57\n"
     ]
    }
   ],
   "source": [
    "# Integer Data type - Both int and bool are integer.\n",
    "print(3 + True)\n",
    "# Unlike other languages I know 2/3 returns double.\n",
    "print(2/3)\n",
    "print(2//3)\n",
    "#dir('Out')\n",
    "# divmod(x, y) returns tuple (quotient, remainder)\n",
    "# pow(x, y, z) returns (x**y)%z\n",
    "# round (x, n)\n",
    "print (round(301.567, 2))\n",
    "# There are methods which convert number from one base to another."
   ]
  },
  {
   "cell_type": "code",
   "execution_count": null,
   "metadata": {},
   "outputs": [],
   "source": [
    "# Other numeral types\n",
    "\"\"\"\n",
    "1. built-in float, complex\n",
    "2. decimal.Decimal\n",
    "3. fraction.Fraction\n",
    "4. float has limited accuracy due to precision limit while decimal.Decimal can be accurate upto specified precision. \n",
    "5. \n",
    "\"\"\""
   ]
  },
  {
   "cell_type": "code",
   "execution_count": 17,
   "metadata": {},
   "outputs": [
    {
     "name": "stdout",
     "output_type": "stream",
     "text": [
      "(2-3j)\n"
     ]
    }
   ],
   "source": [
    "a = 2+3j\n",
    "print(complex.conjugate(a))"
   ]
  },
  {
   "cell_type": "code",
   "execution_count": 71,
   "metadata": {},
   "outputs": [
    {
     "name": "stdout",
     "output_type": "stream",
     "text": [
      "StringRayStrinStringRayStrin\n",
      "{'Name': 'Rajan', 'City': 'Mumbai', 'Ajay': 'Delhi'}\n"
     ]
    },
    {
     "data": {
      "text/plain": [
       "\"93.4 93.4 Decimal('93.4') Decimal('93.4')\""
      ]
     },
     "execution_count": 71,
     "metadata": {},
     "output_type": "execute_result"
    }
   ],
   "source": [
    "# String\n",
    "# Using r before string literals, escape character is not required. - Raw String.\n",
    "# Comparing strings - >, >=, <, <=\n",
    "\"\"\"\n",
    "1. Unicode characters can be represented by two or more byte sequences. This could be problematic, that's why the\n",
    "normalize method should be called with \"NFKC\" as parameter.\n",
    "2. Sorting of unicode string could be problematic too as sorting is done based on byte encoding which may not match\n",
    "with specific language. In such case custom sort method should be implemented.\n",
    "\"\"\"\n",
    "# Slicing and Striding\n",
    "s = \"StringRay\"\n",
    "s[:3]\n",
    "s[-7:-1]\n",
    "s[-7:-1:2]\n",
    "s[-7:-1:-2]\n",
    "# s[-7:-1:0] # Error - Step can not be zero\n",
    "s[1:-1:-2]\n",
    "s[-1:-4]\n",
    "s[-3:-7:-1]\n",
    "s[::-1]\n",
    "s[-3:-7:-1] + s[::-1]\n",
    "s += s[:5] # Augmented operations\n",
    "print(s*2) # Replication\n",
    "# String Joins\n",
    "s1 = [\"Hello\", \"How\", \"are\", \"you\", \"?\"]\n",
    "s2 = \"Ajay\" # Doesn't join with other list of strings.\n",
    "s2.join(s1)\n",
    "\n",
    "# maketrans - for creating translation dictionary\n",
    "# String formatting\n",
    "\"Hi {0}, are you going to {1} ?\".format(\"Rajan\", \"Mumbai\")\n",
    "\"Hi {Name}, are you going to {City} ?\".format(Name=\"Rajan\", City=\"Mumbai\")\n",
    "namecity = [\"Rajan\", \"Mumbai\"]\n",
    "\"Hi {0[0]}, are you going to {0[1]} ?\".format(namecity)\n",
    "namecity = dict(Name=\"Rajan\", City=\"Mumbai\")\n",
    "namecity[\"Ajay\"] = \"Delhi\"\n",
    "print(namecity)\n",
    "\"Hi {0[Name]}, are you going to {0[City]} ?\".format(namecity)\n",
    "\"Hi {}, are you going to {} ?\".format(\"Rajan\", \"Mumbai\")\n",
    "\"Hi {Name}, are you going to {City} ?\".format(**namecity)\n",
    "import decimal\n",
    "\"{0} {0!s} {0!r} {0!a}\".format(decimal.Decimal(\"93.4\"))  #conversion in formatting s - string, r - repr, a - repr ascii"
   ]
  },
  {
   "cell_type": "code",
   "execution_count": 72,
   "metadata": {},
   "outputs": [],
   "source": [
    "# More on String format later"
   ]
  }
 ],
 "metadata": {
  "kernelspec": {
   "display_name": "Python 3",
   "language": "python",
   "name": "python3"
  },
  "language_info": {
   "codemirror_mode": {
    "name": "ipython",
    "version": 3
   },
   "file_extension": ".py",
   "mimetype": "text/x-python",
   "name": "python",
   "nbconvert_exporter": "python",
   "pygments_lexer": "ipython3",
   "version": "3.6.5"
  }
 },
 "nbformat": 4,
 "nbformat_minor": 2
}
