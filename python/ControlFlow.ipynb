{
 "cells": [
  {
   "cell_type": "code",
   "execution_count": 3,
   "metadata": {},
   "outputs": [
    {
     "name": "stdout",
     "output_type": "stream",
     "text": [
      "0\n",
      "1\n",
      "2\n",
      "3\n",
      "4\n",
      "Hi\n",
      "5\n",
      "Hello\n"
     ]
    }
   ],
   "source": [
    "# While\n",
    "count = 0\n",
    "while count < 5:\n",
    "    print(count)\n",
    "    count += 1\n",
    "#    if (count == 3): # else does not execute when break is called\n",
    "#        break\n",
    "else: # How to use optional else clause\n",
    "    print(\"Hi\")\n",
    "    print(count)\n",
    "print(\"Hello\")"
   ]
  },
  {
   "cell_type": "code",
   "execution_count": 10,
   "metadata": {},
   "outputs": [
    {
     "name": "stdout",
     "output_type": "stream",
     "text": [
      "In else\n",
      "finally\n",
      "All Ok.\n"
     ]
    }
   ],
   "source": [
    "# Exception Handling\n",
    "# Need to look at exception classes heirarchy to write except statements properly.\n",
    "# We can have try finally block without except.\n",
    "x = {}\n",
    "x[1] = 'A'\n",
    "x[2] = 'B'\n",
    "x[3] = 'C'\n",
    "try: \n",
    "    d = x[1]  \n",
    "except KeyError: \n",
    "    print(\"Invalid key used\")\n",
    "except LookupError: \n",
    "    print(\"Lookup error occurred\")\n",
    "#except Exception:\n",
    "#    print(\"Catch All\")\n",
    "else: # Not executed when exception occurs - Caught or not, doesn't matter.\n",
    "    print (\"In else\")\n",
    "finally: # Always executed. In case of unhandled exception,finally is executed and \n",
    "    # then control goes back to previous call in stack.\n",
    "    # Mostly used for cleanup.\n",
    "    print (\"finally\")\n",
    "print (\"All Ok.\")\n",
    "\n",
    "# Custom Exceptions\n",
    "# Simple custom exception - class loopBreak(baseException): pass - can be used for cleaner break from nested loops."
   ]
  },
  {
   "cell_type": "code",
   "execution_count": 29,
   "metadata": {},
   "outputs": [
    {
     "name": "stdout",
     "output_type": "stream",
     "text": [
      "2 3\n",
      "5\n"
     ]
    },
    {
     "data": {
      "text/plain": [
       "24"
      ]
     },
     "execution_count": 29,
     "metadata": {},
     "output_type": "execute_result"
    }
   ],
   "source": [
    "# Custom Functions\n",
    "# 1. global functions (visibility to package), 2. local functions(visibility to higher level function)\n",
    "# 3. lambda functions (anonymous), 4. Methods (associated with data types)\n",
    "\n",
    "def trylocalFunc(x1, x2):\n",
    "    \"\"\"\n",
    "        This function demonstrate use of local function.\n",
    "    \"\"\"\n",
    "    print(x1, x2)\n",
    "    def sum1(x1, x2):\n",
    "        return (x1+x2)\n",
    "    print(sum1(x1,x2))\n",
    "\n",
    "trylocalFunc(2, 3)\n",
    "# sum1(2, 3) # Gives error - 'sum1' is not defined.\n",
    "\n",
    "s = lambda x, y: y if x < 0 else x+y \n",
    "s(-2, 3)\n",
    "\n",
    "# Function with variable arguments\n",
    "def products (*args):\n",
    "    assert len(args) != 0, \"No Args Error.\"\n",
    "    prod = 1\n",
    "    for number in args:\n",
    "        prod *= number\n",
    "    return prod\n",
    "products(2, 3, 4)"
   ]
  }
 ],
 "metadata": {
  "kernelspec": {
   "display_name": "Python 3",
   "language": "python",
   "name": "python3"
  },
  "language_info": {
   "codemirror_mode": {
    "name": "ipython",
    "version": 3
   },
   "file_extension": ".py",
   "mimetype": "text/x-python",
   "name": "python",
   "nbconvert_exporter": "python",
   "pygments_lexer": "ipython3",
   "version": "3.6.5"
  }
 },
 "nbformat": 4,
 "nbformat_minor": 2
}
